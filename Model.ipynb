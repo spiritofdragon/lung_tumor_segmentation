{
  "nbformat": 4,
  "nbformat_minor": 0,
  "metadata": {
    "colab": {
      "provenance": [],
      "include_colab_link": true
    },
    "kernelspec": {
      "name": "python3",
      "display_name": "Python 3"
    },
    "language_info": {
      "name": "python"
    }
  },
  "cells": [
    {
      "cell_type": "markdown",
      "metadata": {
        "id": "view-in-github",
        "colab_type": "text"
      },
      "source": [
        "<a href=\"https://colab.research.google.com/github/spiritofdragon/lung_tumor_segmentation/blob/main/Model.ipynb\" target=\"_parent\"><img src=\"https://colab.research.google.com/assets/colab-badge.svg\" alt=\"Open In Colab\"/></a>"
      ]
    },
    {
      "cell_type": "code",
      "execution_count": null,
      "metadata": {
        "id": "iZ1nAVnY09vg"
      },
      "outputs": [],
      "source": [
        "import torch"
      ]
    },
    {
      "cell_type": "code",
      "source": [
        "# Convolution"
      ],
      "metadata": {
        "id": "Z0CxMH5VaS4P"
      },
      "execution_count": null,
      "outputs": []
    },
    {
      "cell_type": "code",
      "source": [
        "class DoubleConv(torch.nn.Module):\n",
        "  def __init__(self, in_channels, out_channels):\n",
        "    super().__init__()\n",
        "    self.step = torch.nn.Sequential(torch.nn.Conv2d(in_channels, out_channels, 3, padding=1),\n",
        "                                    torch.nn.ReLU(),\n",
        "                                    torch.nn.Conv2d(out_channels, out_channels, 3, padding=1),\n",
        "                                    torch.nn.ReLU())\n",
        "  def forward(self, X):\n",
        "    return self.step(X)\n"
      ],
      "metadata": {
        "id": "_TYAdaPg1lHG"
      },
      "execution_count": null,
      "outputs": []
    },
    {
      "cell_type": "code",
      "source": [
        "# UNET"
      ],
      "metadata": {
        "id": "YkvR-JtmaVoG"
      },
      "execution_count": null,
      "outputs": []
    },
    {
      "cell_type": "code",
      "source": [
        "class UNet(torch.nn.Module):\n",
        "  def __init__(self):\n",
        "    super().__init__()\n",
        "    self.layer1 = DoubleConv(1,64)\n",
        "    self.layer2 = DoubleConv(64,128)\n",
        "    self.layer3 = DoubleConv(128,256)\n",
        "    self.layer4 = DoubleConv(256,512)\n",
        "\n",
        "    self.layer5 = DoubleConv(512+256, 256)\n",
        "    self.layer6 = DoubleConv(256+128, 128)\n",
        "    self.layer7 = DoubleConv(128+64, 64)\n",
        "    self.layer8 = torch.nn.Conv2d(64, 1, 1)\n",
        "\n",
        "    self.maxpool = torch.nn.MaxPool2d(2)\n",
        "\n",
        "  def forward (self, x):\n",
        "    x1 = self.layer1(x)\n",
        "    x1m = self.maxpool(x1)\n",
        "\n",
        "    x2 = self.layer2(x1m)\n",
        "    x2m = self.maxpool(x2)\n",
        "\n",
        "    x3 = self.layer3(x2m)\n",
        "    x3m = self.maxpool(x3)\n",
        "\n",
        "    x4 = self.layer4(x3m)\n",
        "\n",
        "    x5 = torch.nn.Upsample(scale_factor=2, mode=\"bilinear\")(x4)\n",
        "    x5 = torch.cat([x5, x3], dim=1)\n",
        "    x5 = self.layer5(x5)\n",
        "\n",
        "    x6 = torch.nn.Upsample(scale_factor=2, mode=\"bilinear\")(x5)\n",
        "    x6 = torch.cat([x6, x2], dim=1)\n",
        "    x6 = self.layer6(x6)\n",
        "\n",
        "    x7 = torch.nn.Upsample(scale_factor=2, mode=\"bilinear\")(x6)\n",
        "    x7 = torch.cat([x7, x1], dim=1)\n",
        "    x7 = self.layer7(x7)\n",
        "\n",
        "    ret = self.layer8(x7)\n",
        "    return ret"
      ],
      "metadata": {
        "id": "393BbVCL3Mzb"
      },
      "execution_count": null,
      "outputs": []
    },
    {
      "cell_type": "code",
      "source": [
        "# Testing"
      ],
      "metadata": {
        "id": "dyfW458GaFvt"
      },
      "execution_count": null,
      "outputs": []
    },
    {
      "cell_type": "code",
      "source": [
        "model = UNet()"
      ],
      "metadata": {
        "id": "ai6ZsusyEPjs"
      },
      "execution_count": null,
      "outputs": []
    },
    {
      "cell_type": "code",
      "source": [
        "random_input = torch.randn(1, 1, 256, 256)\n",
        "ouput = model(random_input)\n",
        "assert ouput.shape == torch.Size([1, 1, 256, 256])"
      ],
      "metadata": {
        "id": "YMlMzL-IchnA"
      },
      "execution_count": null,
      "outputs": []
    },
    {
      "cell_type": "code",
      "source": [],
      "metadata": {
        "id": "fuM6M5qudl_S"
      },
      "execution_count": null,
      "outputs": []
    }
  ]
}